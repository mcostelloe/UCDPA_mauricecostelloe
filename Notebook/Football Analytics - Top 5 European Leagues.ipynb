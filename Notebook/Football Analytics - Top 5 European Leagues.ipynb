{
 "cells": [
  {
   "cell_type": "markdown",
   "metadata": {},
   "source": [
    "# Football Analysis of the Top 5 European Leagues"
   ]
  },
  {
   "cell_type": "markdown",
   "metadata": {},
   "source": [
    "*This project aims to investigate the relationship between a team's total points count, total goals & total expected goals at the end of the season for Europe's top 5 leagues (2014 - 2019)*\n"
   ]
  },
  {
   "cell_type": "markdown",
   "metadata": {},
   "source": [
    "The Definitions for all of the metrics used in the project can be found here: **GITHUB LINK**"
   ]
  },
  {
   "cell_type": "markdown",
   "metadata": {},
   "source": [
    "**Luck Definition:**  Difference between league points and expected points each season"
   ]
  },
  {
   "cell_type": "markdown",
   "metadata": {},
   "source": [
    "**Goal Luck:** Difference between league goals and expected goals each season"
   ]
  },
  {
   "cell_type": "markdown",
   "metadata": {},
   "source": [
    "**Question: What impact (If any) does luck play in the end league position for each team?**"
   ]
  },
  {
   "cell_type": "markdown",
   "metadata": {},
   "source": [
    "**To track this, we will look at the league position for each individual team by season, studying their improvements/decline in league position alongside their points and expected points**"
   ]
  },
  {
   "cell_type": "markdown",
   "metadata": {},
   "source": [
    "## 1. Import Functions"
   ]
  },
  {
   "cell_type": "code",
   "execution_count": 49,
   "metadata": {
    "scrolled": true
   },
   "outputs": [
    {
     "name": "stdout",
     "output_type": "stream",
     "text": [
      "The autoreload extension is already loaded. To reload it, use:\n",
      "  %reload_ext autoreload\n"
     ]
    }
   ],
   "source": [
    "import pandas as pd\n",
    "import numpy as np\n",
    "import requests\n",
    "\n",
    "import matplotlib.pyplot as plt\n",
    "import seaborn as sns\n",
    "\n",
    "%load_ext autoreload\n",
    "%autoreload 2"
   ]
  },
  {
   "cell_type": "markdown",
   "metadata": {},
   "source": [
    "## 2. Clean Datasets"
   ]
  },
  {
   "cell_type": "markdown",
   "metadata": {},
   "source": [
    "**Datasource: https://www.kaggle.com/slehkyi/web-scraping-football-statistics-2014-now**"
   ]
  },
  {
   "cell_type": "markdown",
   "metadata": {},
   "source": [
    "**Dataset:** Data from top 5 leagues in csv format which was pulled from the website **understat.com** using the web scraping methodology described in the link above"
   ]
  },
  {
   "cell_type": "code",
   "execution_count": 52,
   "metadata": {},
   "outputs": [],
   "source": [
    "# Data Source using API\n",
    "api_data_pull = requests.get('https://www.kaggle.com/slehkyi/extended-football-stats-for-european-leagues-xg')\n",
    "\n",
    "db = pd.DataFrame(api_data_pull)"
   ]
  },
  {
   "cell_type": "code",
   "execution_count": 53,
   "metadata": {},
   "outputs": [
    {
     "data": {
      "text/html": [
       "<div>\n",
       "<style scoped>\n",
       "    .dataframe tbody tr th:only-of-type {\n",
       "        vertical-align: middle;\n",
       "    }\n",
       "\n",
       "    .dataframe tbody tr th {\n",
       "        vertical-align: top;\n",
       "    }\n",
       "\n",
       "    .dataframe thead th {\n",
       "        text-align: right;\n",
       "    }\n",
       "</style>\n",
       "<table border=\"1\" class=\"dataframe\">\n",
       "  <thead>\n",
       "    <tr style=\"text-align: right;\">\n",
       "      <th></th>\n",
       "      <th>Unnamed: 0</th>\n",
       "      <th>Unnamed: 1</th>\n",
       "      <th>position</th>\n",
       "      <th>team</th>\n",
       "      <th>matches</th>\n",
       "      <th>wins</th>\n",
       "      <th>draws</th>\n",
       "      <th>loses</th>\n",
       "      <th>scored</th>\n",
       "      <th>missed</th>\n",
       "      <th>...</th>\n",
       "      <th>xGA</th>\n",
       "      <th>xGA_diff</th>\n",
       "      <th>npxGA</th>\n",
       "      <th>npxGD</th>\n",
       "      <th>ppda_coef</th>\n",
       "      <th>oppda_coef</th>\n",
       "      <th>deep</th>\n",
       "      <th>deep_allowed</th>\n",
       "      <th>xpts</th>\n",
       "      <th>xpts_diff</th>\n",
       "    </tr>\n",
       "  </thead>\n",
       "  <tbody>\n",
       "    <tr>\n",
       "      <th>0</th>\n",
       "      <td>La_liga</td>\n",
       "      <td>2014</td>\n",
       "      <td>1</td>\n",
       "      <td>Barcelona</td>\n",
       "      <td>38</td>\n",
       "      <td>30</td>\n",
       "      <td>4</td>\n",
       "      <td>4</td>\n",
       "      <td>110</td>\n",
       "      <td>21</td>\n",
       "      <td>...</td>\n",
       "      <td>28.444293</td>\n",
       "      <td>7.444293</td>\n",
       "      <td>24.727907</td>\n",
       "      <td>73.049305</td>\n",
       "      <td>5.683535</td>\n",
       "      <td>16.367593</td>\n",
       "      <td>489</td>\n",
       "      <td>114</td>\n",
       "      <td>94.0813</td>\n",
       "      <td>0.0813</td>\n",
       "    </tr>\n",
       "    <tr>\n",
       "      <th>1</th>\n",
       "      <td>La_liga</td>\n",
       "      <td>2014</td>\n",
       "      <td>2</td>\n",
       "      <td>Real Madrid</td>\n",
       "      <td>38</td>\n",
       "      <td>30</td>\n",
       "      <td>2</td>\n",
       "      <td>6</td>\n",
       "      <td>118</td>\n",
       "      <td>38</td>\n",
       "      <td>...</td>\n",
       "      <td>42.607198</td>\n",
       "      <td>4.607198</td>\n",
       "      <td>38.890805</td>\n",
       "      <td>47.213090</td>\n",
       "      <td>10.209085</td>\n",
       "      <td>12.929510</td>\n",
       "      <td>351</td>\n",
       "      <td>153</td>\n",
       "      <td>81.7489</td>\n",
       "      <td>-10.2511</td>\n",
       "    </tr>\n",
       "    <tr>\n",
       "      <th>2</th>\n",
       "      <td>La_liga</td>\n",
       "      <td>2014</td>\n",
       "      <td>3</td>\n",
       "      <td>Atletico Madrid</td>\n",
       "      <td>38</td>\n",
       "      <td>23</td>\n",
       "      <td>9</td>\n",
       "      <td>6</td>\n",
       "      <td>67</td>\n",
       "      <td>29</td>\n",
       "      <td>...</td>\n",
       "      <td>29.069107</td>\n",
       "      <td>0.069107</td>\n",
       "      <td>26.839271</td>\n",
       "      <td>25.748737</td>\n",
       "      <td>8.982028</td>\n",
       "      <td>9.237091</td>\n",
       "      <td>197</td>\n",
       "      <td>123</td>\n",
       "      <td>73.1353</td>\n",
       "      <td>-4.8647</td>\n",
       "    </tr>\n",
       "    <tr>\n",
       "      <th>3</th>\n",
       "      <td>La_liga</td>\n",
       "      <td>2014</td>\n",
       "      <td>4</td>\n",
       "      <td>Valencia</td>\n",
       "      <td>38</td>\n",
       "      <td>22</td>\n",
       "      <td>11</td>\n",
       "      <td>5</td>\n",
       "      <td>70</td>\n",
       "      <td>32</td>\n",
       "      <td>...</td>\n",
       "      <td>39.392572</td>\n",
       "      <td>7.392572</td>\n",
       "      <td>33.446477</td>\n",
       "      <td>16.257501</td>\n",
       "      <td>8.709827</td>\n",
       "      <td>7.870225</td>\n",
       "      <td>203</td>\n",
       "      <td>172</td>\n",
       "      <td>63.7068</td>\n",
       "      <td>-13.2932</td>\n",
       "    </tr>\n",
       "    <tr>\n",
       "      <th>4</th>\n",
       "      <td>La_liga</td>\n",
       "      <td>2014</td>\n",
       "      <td>5</td>\n",
       "      <td>Sevilla</td>\n",
       "      <td>38</td>\n",
       "      <td>23</td>\n",
       "      <td>7</td>\n",
       "      <td>8</td>\n",
       "      <td>71</td>\n",
       "      <td>45</td>\n",
       "      <td>...</td>\n",
       "      <td>47.862742</td>\n",
       "      <td>2.862742</td>\n",
       "      <td>41.916529</td>\n",
       "      <td>20.178070</td>\n",
       "      <td>8.276148</td>\n",
       "      <td>9.477805</td>\n",
       "      <td>305</td>\n",
       "      <td>168</td>\n",
       "      <td>67.3867</td>\n",
       "      <td>-8.6133</td>\n",
       "    </tr>\n",
       "  </tbody>\n",
       "</table>\n",
       "<p>5 rows × 24 columns</p>\n",
       "</div>"
      ],
      "text/plain": [
       "  Unnamed: 0  Unnamed: 1  position             team  matches  wins  draws  \\\n",
       "0    La_liga        2014         1        Barcelona       38    30      4   \n",
       "1    La_liga        2014         2      Real Madrid       38    30      2   \n",
       "2    La_liga        2014         3  Atletico Madrid       38    23      9   \n",
       "3    La_liga        2014         4         Valencia       38    22     11   \n",
       "4    La_liga        2014         5          Sevilla       38    23      7   \n",
       "\n",
       "   loses  scored  missed  ...        xGA  xGA_diff      npxGA      npxGD  \\\n",
       "0      4     110      21  ...  28.444293  7.444293  24.727907  73.049305   \n",
       "1      6     118      38  ...  42.607198  4.607198  38.890805  47.213090   \n",
       "2      6      67      29  ...  29.069107  0.069107  26.839271  25.748737   \n",
       "3      5      70      32  ...  39.392572  7.392572  33.446477  16.257501   \n",
       "4      8      71      45  ...  47.862742  2.862742  41.916529  20.178070   \n",
       "\n",
       "   ppda_coef  oppda_coef  deep  deep_allowed     xpts  xpts_diff  \n",
       "0   5.683535   16.367593   489           114  94.0813     0.0813  \n",
       "1  10.209085   12.929510   351           153  81.7489   -10.2511  \n",
       "2   8.982028    9.237091   197           123  73.1353    -4.8647  \n",
       "3   8.709827    7.870225   203           172  63.7068   -13.2932  \n",
       "4   8.276148    9.477805   305           168  67.3867    -8.6133  \n",
       "\n",
       "[5 rows x 24 columns]"
      ]
     },
     "execution_count": 53,
     "metadata": {},
     "output_type": "execute_result"
    }
   ],
   "source": [
    "# Read csv data using Pandas \n",
    "team_data = pd.read_csv('C:/Users/costelloem/ucd-assignment/Data/stats_by_team.csv')\n",
    "team_data.head()"
   ]
  },
  {
   "cell_type": "code",
   "execution_count": 8,
   "metadata": {
    "scrolled": true
   },
   "outputs": [
    {
     "data": {
      "text/html": [
       "<div>\n",
       "<style scoped>\n",
       "    .dataframe tbody tr th:only-of-type {\n",
       "        vertical-align: middle;\n",
       "    }\n",
       "\n",
       "    .dataframe tbody tr th {\n",
       "        vertical-align: top;\n",
       "    }\n",
       "\n",
       "    .dataframe thead th {\n",
       "        text-align: right;\n",
       "    }\n",
       "</style>\n",
       "<table border=\"1\" class=\"dataframe\">\n",
       "  <thead>\n",
       "    <tr style=\"text-align: right;\">\n",
       "      <th></th>\n",
       "      <th>league</th>\n",
       "      <th>year</th>\n",
       "      <th>position</th>\n",
       "      <th>team</th>\n",
       "      <th>matches</th>\n",
       "      <th>wins</th>\n",
       "      <th>draws</th>\n",
       "      <th>loses</th>\n",
       "      <th>scored</th>\n",
       "      <th>missed</th>\n",
       "      <th>...</th>\n",
       "      <th>xGA</th>\n",
       "      <th>xGA_diff</th>\n",
       "      <th>npxGA</th>\n",
       "      <th>npxGD</th>\n",
       "      <th>ppda_coef</th>\n",
       "      <th>oppda_coef</th>\n",
       "      <th>deep</th>\n",
       "      <th>deep_allowed</th>\n",
       "      <th>xpts</th>\n",
       "      <th>xpts_diff</th>\n",
       "    </tr>\n",
       "  </thead>\n",
       "  <tbody>\n",
       "    <tr>\n",
       "      <th>0</th>\n",
       "      <td>La_liga</td>\n",
       "      <td>2014</td>\n",
       "      <td>1</td>\n",
       "      <td>Barcelona</td>\n",
       "      <td>38</td>\n",
       "      <td>30</td>\n",
       "      <td>4</td>\n",
       "      <td>4</td>\n",
       "      <td>110</td>\n",
       "      <td>21</td>\n",
       "      <td>...</td>\n",
       "      <td>28.444293</td>\n",
       "      <td>7.444293</td>\n",
       "      <td>24.727907</td>\n",
       "      <td>73.049305</td>\n",
       "      <td>5.683535</td>\n",
       "      <td>16.367593</td>\n",
       "      <td>489</td>\n",
       "      <td>114</td>\n",
       "      <td>94.0813</td>\n",
       "      <td>0.0813</td>\n",
       "    </tr>\n",
       "    <tr>\n",
       "      <th>1</th>\n",
       "      <td>La_liga</td>\n",
       "      <td>2014</td>\n",
       "      <td>2</td>\n",
       "      <td>Real Madrid</td>\n",
       "      <td>38</td>\n",
       "      <td>30</td>\n",
       "      <td>2</td>\n",
       "      <td>6</td>\n",
       "      <td>118</td>\n",
       "      <td>38</td>\n",
       "      <td>...</td>\n",
       "      <td>42.607198</td>\n",
       "      <td>4.607198</td>\n",
       "      <td>38.890805</td>\n",
       "      <td>47.213090</td>\n",
       "      <td>10.209085</td>\n",
       "      <td>12.929510</td>\n",
       "      <td>351</td>\n",
       "      <td>153</td>\n",
       "      <td>81.7489</td>\n",
       "      <td>-10.2511</td>\n",
       "    </tr>\n",
       "    <tr>\n",
       "      <th>2</th>\n",
       "      <td>La_liga</td>\n",
       "      <td>2014</td>\n",
       "      <td>3</td>\n",
       "      <td>Atletico Madrid</td>\n",
       "      <td>38</td>\n",
       "      <td>23</td>\n",
       "      <td>9</td>\n",
       "      <td>6</td>\n",
       "      <td>67</td>\n",
       "      <td>29</td>\n",
       "      <td>...</td>\n",
       "      <td>29.069107</td>\n",
       "      <td>0.069107</td>\n",
       "      <td>26.839271</td>\n",
       "      <td>25.748737</td>\n",
       "      <td>8.982028</td>\n",
       "      <td>9.237091</td>\n",
       "      <td>197</td>\n",
       "      <td>123</td>\n",
       "      <td>73.1353</td>\n",
       "      <td>-4.8647</td>\n",
       "    </tr>\n",
       "    <tr>\n",
       "      <th>3</th>\n",
       "      <td>La_liga</td>\n",
       "      <td>2014</td>\n",
       "      <td>4</td>\n",
       "      <td>Valencia</td>\n",
       "      <td>38</td>\n",
       "      <td>22</td>\n",
       "      <td>11</td>\n",
       "      <td>5</td>\n",
       "      <td>70</td>\n",
       "      <td>32</td>\n",
       "      <td>...</td>\n",
       "      <td>39.392572</td>\n",
       "      <td>7.392572</td>\n",
       "      <td>33.446477</td>\n",
       "      <td>16.257501</td>\n",
       "      <td>8.709827</td>\n",
       "      <td>7.870225</td>\n",
       "      <td>203</td>\n",
       "      <td>172</td>\n",
       "      <td>63.7068</td>\n",
       "      <td>-13.2932</td>\n",
       "    </tr>\n",
       "    <tr>\n",
       "      <th>4</th>\n",
       "      <td>La_liga</td>\n",
       "      <td>2014</td>\n",
       "      <td>5</td>\n",
       "      <td>Sevilla</td>\n",
       "      <td>38</td>\n",
       "      <td>23</td>\n",
       "      <td>7</td>\n",
       "      <td>8</td>\n",
       "      <td>71</td>\n",
       "      <td>45</td>\n",
       "      <td>...</td>\n",
       "      <td>47.862742</td>\n",
       "      <td>2.862742</td>\n",
       "      <td>41.916529</td>\n",
       "      <td>20.178070</td>\n",
       "      <td>8.276148</td>\n",
       "      <td>9.477805</td>\n",
       "      <td>305</td>\n",
       "      <td>168</td>\n",
       "      <td>67.3867</td>\n",
       "      <td>-8.6133</td>\n",
       "    </tr>\n",
       "  </tbody>\n",
       "</table>\n",
       "<p>5 rows × 24 columns</p>\n",
       "</div>"
      ],
      "text/plain": [
       "    league  year  position             team  matches  wins  draws  loses  \\\n",
       "0  La_liga  2014         1        Barcelona       38    30      4      4   \n",
       "1  La_liga  2014         2      Real Madrid       38    30      2      6   \n",
       "2  La_liga  2014         3  Atletico Madrid       38    23      9      6   \n",
       "3  La_liga  2014         4         Valencia       38    22     11      5   \n",
       "4  La_liga  2014         5          Sevilla       38    23      7      8   \n",
       "\n",
       "   scored  missed  ...        xGA  xGA_diff      npxGA      npxGD  ppda_coef  \\\n",
       "0     110      21  ...  28.444293  7.444293  24.727907  73.049305   5.683535   \n",
       "1     118      38  ...  42.607198  4.607198  38.890805  47.213090  10.209085   \n",
       "2      67      29  ...  29.069107  0.069107  26.839271  25.748737   8.982028   \n",
       "3      70      32  ...  39.392572  7.392572  33.446477  16.257501   8.709827   \n",
       "4      71      45  ...  47.862742  2.862742  41.916529  20.178070   8.276148   \n",
       "\n",
       "   oppda_coef  deep  deep_allowed     xpts  xpts_diff  \n",
       "0   16.367593   489           114  94.0813     0.0813  \n",
       "1   12.929510   351           153  81.7489   -10.2511  \n",
       "2    9.237091   197           123  73.1353    -4.8647  \n",
       "3    7.870225   203           172  63.7068   -13.2932  \n",
       "4    9.477805   305           168  67.3867    -8.6133  \n",
       "\n",
       "[5 rows x 24 columns]"
      ]
     },
     "execution_count": 8,
     "metadata": {},
     "output_type": "execute_result"
    }
   ],
   "source": [
    "# Re-Write dataset inserting column names for column 1 & 2\n",
    "team_stats = team_data.rename(index=int, columns={'Unnamed: 0': 'league', 'Unnamed: 1': 'year'}) \n",
    "team_stats.head()"
   ]
  },
  {
   "cell_type": "code",
   "execution_count": 35,
   "metadata": {
    "scrolled": true
   },
   "outputs": [
    {
     "name": "stdout",
     "output_type": "stream",
     "text": [
      "<class 'pandas.core.frame.DataFrame'>\n",
      "Int64Index: 588 entries, 0 to 587\n",
      "Data columns (total 24 columns):\n",
      " #   Column        Non-Null Count  Dtype  \n",
      "---  ------        --------------  -----  \n",
      " 0   league        588 non-null    object \n",
      " 1   year          588 non-null    int64  \n",
      " 2   position      588 non-null    int64  \n",
      " 3   team          588 non-null    object \n",
      " 4   matches       588 non-null    int64  \n",
      " 5   wins          588 non-null    int64  \n",
      " 6   draws         588 non-null    int64  \n",
      " 7   loses         588 non-null    int64  \n",
      " 8   scored        588 non-null    int64  \n",
      " 9   missed        588 non-null    int64  \n",
      " 10  pts           588 non-null    int64  \n",
      " 11  xG            588 non-null    float64\n",
      " 12  xG_diff       588 non-null    float64\n",
      " 13  npxG          588 non-null    float64\n",
      " 14  xGA           588 non-null    float64\n",
      " 15  xGA_diff      588 non-null    float64\n",
      " 16  npxGA         588 non-null    float64\n",
      " 17  npxGD         588 non-null    float64\n",
      " 18  ppda_coef     588 non-null    float64\n",
      " 19  oppda_coef    588 non-null    float64\n",
      " 20  deep          588 non-null    int64  \n",
      " 21  deep_allowed  588 non-null    int64  \n",
      " 22  xpts          588 non-null    float64\n",
      " 23  xpts_diff     588 non-null    float64\n",
      "dtypes: float64(11), int64(11), object(2)\n",
      "memory usage: 114.8+ KB\n"
     ]
    }
   ],
   "source": [
    "# Examine all columns & data types\n",
    "team_stats.info()"
   ]
  },
  {
   "cell_type": "code",
   "execution_count": 13,
   "metadata": {},
   "outputs": [
    {
     "data": {
      "text/plain": [
       "league          0\n",
       "year            0\n",
       "position        0\n",
       "team            0\n",
       "matches         0\n",
       "wins            0\n",
       "draws           0\n",
       "loses           0\n",
       "scored          0\n",
       "missed          0\n",
       "pts             0\n",
       "xG              0\n",
       "xG_diff         0\n",
       "npxG            0\n",
       "xGA             0\n",
       "xGA_diff        0\n",
       "npxGA           0\n",
       "npxGD           0\n",
       "ppda_coef       0\n",
       "oppda_coef      0\n",
       "deep            0\n",
       "deep_allowed    0\n",
       "xpts            0\n",
       "xpts_diff       0\n",
       "dtype: int64"
      ]
     },
     "execution_count": 13,
     "metadata": {},
     "output_type": "execute_result"
    }
   ],
   "source": [
    "# Show that the dataset has no NULL values:\n",
    "team_stats.isnull().sum()"
   ]
  },
  {
   "cell_type": "code",
   "execution_count": 24,
   "metadata": {},
   "outputs": [],
   "source": [
    "# What leagues are available in this dataset? We're only interested in the top 5\n",
    "team_stats['league'].unique()\n",
    "\n",
    "# Filter dataset for Europe's top 5 Leagues: PL, Serie A, Bundesliga, La Liga & Ligue 1:\n",
    "team_stats = team_stats[team_stats.league != 'RFPL']"
   ]
  },
  {
   "cell_type": "code",
   "execution_count": 21,
   "metadata": {
    "scrolled": false
   },
   "outputs": [
    {
     "data": {
      "text/plain": [
       "array(['La_liga', 'EPL', 'Bundesliga', 'Serie_A', 'Ligue_1'], dtype=object)"
      ]
     },
     "execution_count": 21,
     "metadata": {},
     "output_type": "execute_result"
    }
   ],
   "source": [
    "# List of Europe's top 5 leagues:\n",
    "team_stats['league'].unique()"
   ]
  },
  {
   "cell_type": "code",
   "execution_count": null,
   "metadata": {},
   "outputs": [],
   "source": []
  },
  {
   "cell_type": "markdown",
   "metadata": {},
   "source": [
    "## 3. Analyse Dataset"
   ]
  },
  {
   "cell_type": "code",
   "execution_count": 43,
   "metadata": {
    "scrolled": false
   },
   "outputs": [
    {
     "data": {
      "text/html": [
       "<div>\n",
       "<style scoped>\n",
       "    .dataframe tbody tr th:only-of-type {\n",
       "        vertical-align: middle;\n",
       "    }\n",
       "\n",
       "    .dataframe tbody tr th {\n",
       "        vertical-align: top;\n",
       "    }\n",
       "\n",
       "    .dataframe thead th {\n",
       "        text-align: right;\n",
       "    }\n",
       "</style>\n",
       "<table border=\"1\" class=\"dataframe\">\n",
       "  <thead>\n",
       "    <tr style=\"text-align: right;\">\n",
       "      <th></th>\n",
       "      <th></th>\n",
       "      <th>position</th>\n",
       "      <th>wins</th>\n",
       "      <th>xG</th>\n",
       "      <th>xG_diff</th>\n",
       "      <th>pts</th>\n",
       "      <th>xpts_diff</th>\n",
       "    </tr>\n",
       "    <tr>\n",
       "      <th>league</th>\n",
       "      <th>team</th>\n",
       "      <th></th>\n",
       "      <th></th>\n",
       "      <th></th>\n",
       "      <th></th>\n",
       "      <th></th>\n",
       "      <th></th>\n",
       "    </tr>\n",
       "  </thead>\n",
       "  <tbody>\n",
       "    <tr>\n",
       "      <th rowspan=\"5\" valign=\"top\">Bundesliga</th>\n",
       "      <th>Augsburg</th>\n",
       "      <td>12.166667</td>\n",
       "      <td>10.000000</td>\n",
       "      <td>42.291191</td>\n",
       "      <td>-0.875476</td>\n",
       "      <td>39.000000</td>\n",
       "      <td>1.705583</td>\n",
       "    </tr>\n",
       "    <tr>\n",
       "      <th>Bayer Leverkusen</th>\n",
       "      <td>5.166667</td>\n",
       "      <td>16.333333</td>\n",
       "      <td>55.920765</td>\n",
       "      <td>-3.912569</td>\n",
       "      <td>56.333333</td>\n",
       "      <td>-0.467317</td>\n",
       "    </tr>\n",
       "    <tr>\n",
       "      <th>Bayern Munich</th>\n",
       "      <td>1.000000</td>\n",
       "      <td>25.833333</td>\n",
       "      <td>79.799526</td>\n",
       "      <td>-8.367141</td>\n",
       "      <td>82.166667</td>\n",
       "      <td>-5.801550</td>\n",
       "    </tr>\n",
       "    <tr>\n",
       "      <th>Borussia Dortmund</th>\n",
       "      <td>3.500000</td>\n",
       "      <td>19.000000</td>\n",
       "      <td>67.922701</td>\n",
       "      <td>-3.743966</td>\n",
       "      <td>64.666667</td>\n",
       "      <td>0.535283</td>\n",
       "    </tr>\n",
       "    <tr>\n",
       "      <th>Borussia M.Gladbach</th>\n",
       "      <td>5.666667</td>\n",
       "      <td>16.166667</td>\n",
       "      <td>55.164596</td>\n",
       "      <td>-0.335404</td>\n",
       "      <td>55.500000</td>\n",
       "      <td>-2.613100</td>\n",
       "    </tr>\n",
       "  </tbody>\n",
       "</table>\n",
       "</div>"
      ],
      "text/plain": [
       "                                 position       wins         xG   xG_diff  \\\n",
       "league     team                                                             \n",
       "Bundesliga Augsburg             12.166667  10.000000  42.291191 -0.875476   \n",
       "           Bayer Leverkusen      5.166667  16.333333  55.920765 -3.912569   \n",
       "           Bayern Munich         1.000000  25.833333  79.799526 -8.367141   \n",
       "           Borussia Dortmund     3.500000  19.000000  67.922701 -3.743966   \n",
       "           Borussia M.Gladbach   5.666667  16.166667  55.164596 -0.335404   \n",
       "\n",
       "                                      pts  xpts_diff  \n",
       "league     team                                       \n",
       "Bundesliga Augsburg             39.000000   1.705583  \n",
       "           Bayer Leverkusen     56.333333  -0.467317  \n",
       "           Bayern Munich        82.166667  -5.801550  \n",
       "           Borussia Dortmund    64.666667   0.535283  \n",
       "           Borussia M.Gladbach  55.500000  -2.613100  "
      ]
     },
     "execution_count": 43,
     "metadata": {},
     "output_type": "execute_result"
    }
   ],
   "source": [
    "# Show average team position, pts and expected pts from 2014 - 2019\n",
    "team_mean_stats = team_stats.groupby(['league','team'])[['position', 'wins', 'xG', 'xG_diff', 'pts', 'xpts_diff']].mean()\n",
    "\n",
    "team_mean_stats.head()"
   ]
  },
  {
   "cell_type": "code",
   "execution_count": 45,
   "metadata": {},
   "outputs": [
    {
     "data": {
      "text/html": [
       "<div>\n",
       "<style scoped>\n",
       "    .dataframe tbody tr th:only-of-type {\n",
       "        vertical-align: middle;\n",
       "    }\n",
       "\n",
       "    .dataframe tbody tr th {\n",
       "        vertical-align: top;\n",
       "    }\n",
       "\n",
       "    .dataframe thead th {\n",
       "        text-align: right;\n",
       "    }\n",
       "</style>\n",
       "<table border=\"1\" class=\"dataframe\">\n",
       "  <thead>\n",
       "    <tr style=\"text-align: right;\">\n",
       "      <th></th>\n",
       "      <th>league</th>\n",
       "      <th>team</th>\n",
       "      <th>position</th>\n",
       "      <th>wins</th>\n",
       "      <th>xG</th>\n",
       "      <th>xG_diff</th>\n",
       "      <th>pts</th>\n",
       "      <th>xpts_diff</th>\n",
       "    </tr>\n",
       "  </thead>\n",
       "  <tbody>\n",
       "    <tr>\n",
       "      <th>0</th>\n",
       "      <td>Bundesliga</td>\n",
       "      <td>Augsburg</td>\n",
       "      <td>12.166667</td>\n",
       "      <td>10.000000</td>\n",
       "      <td>42.291191</td>\n",
       "      <td>-0.875476</td>\n",
       "      <td>39.000000</td>\n",
       "      <td>1.705583</td>\n",
       "    </tr>\n",
       "    <tr>\n",
       "      <th>1</th>\n",
       "      <td>Bundesliga</td>\n",
       "      <td>Bayer Leverkusen</td>\n",
       "      <td>5.166667</td>\n",
       "      <td>16.333333</td>\n",
       "      <td>55.920765</td>\n",
       "      <td>-3.912569</td>\n",
       "      <td>56.333333</td>\n",
       "      <td>-0.467317</td>\n",
       "    </tr>\n",
       "    <tr>\n",
       "      <th>2</th>\n",
       "      <td>Bundesliga</td>\n",
       "      <td>Bayern Munich</td>\n",
       "      <td>1.000000</td>\n",
       "      <td>25.833333</td>\n",
       "      <td>79.799526</td>\n",
       "      <td>-8.367141</td>\n",
       "      <td>82.166667</td>\n",
       "      <td>-5.801550</td>\n",
       "    </tr>\n",
       "    <tr>\n",
       "      <th>3</th>\n",
       "      <td>Bundesliga</td>\n",
       "      <td>Borussia Dortmund</td>\n",
       "      <td>3.500000</td>\n",
       "      <td>19.000000</td>\n",
       "      <td>67.922701</td>\n",
       "      <td>-3.743966</td>\n",
       "      <td>64.666667</td>\n",
       "      <td>0.535283</td>\n",
       "    </tr>\n",
       "    <tr>\n",
       "      <th>4</th>\n",
       "      <td>Bundesliga</td>\n",
       "      <td>Borussia M.Gladbach</td>\n",
       "      <td>5.666667</td>\n",
       "      <td>16.166667</td>\n",
       "      <td>55.164596</td>\n",
       "      <td>-0.335404</td>\n",
       "      <td>55.500000</td>\n",
       "      <td>-2.613100</td>\n",
       "    </tr>\n",
       "  </tbody>\n",
       "</table>\n",
       "</div>"
      ],
      "text/plain": [
       "       league                 team   position       wins         xG   xG_diff  \\\n",
       "0  Bundesliga             Augsburg  12.166667  10.000000  42.291191 -0.875476   \n",
       "1  Bundesliga     Bayer Leverkusen   5.166667  16.333333  55.920765 -3.912569   \n",
       "2  Bundesliga        Bayern Munich   1.000000  25.833333  79.799526 -8.367141   \n",
       "3  Bundesliga    Borussia Dortmund   3.500000  19.000000  67.922701 -3.743966   \n",
       "4  Bundesliga  Borussia M.Gladbach   5.666667  16.166667  55.164596 -0.335404   \n",
       "\n",
       "         pts  xpts_diff  \n",
       "0  39.000000   1.705583  \n",
       "1  56.333333  -0.467317  \n",
       "2  82.166667  -5.801550  \n",
       "3  64.666667   0.535283  \n",
       "4  55.500000  -2.613100  "
      ]
     },
     "execution_count": 45,
     "metadata": {},
     "output_type": "execute_result"
    }
   ],
   "source": [
    "# Reset Index \n",
    "team_mean_stats = team_stats.groupby(['league','team'])[['position', 'wins', 'xG', 'xG_diff', 'pts', 'xpts_diff']].mean().reset_index()\n",
    "\n",
    "team_mean_stats.head()"
   ]
  },
  {
   "cell_type": "code",
   "execution_count": null,
   "metadata": {},
   "outputs": [],
   "source": []
  },
  {
   "cell_type": "code",
   "execution_count": null,
   "metadata": {},
   "outputs": [],
   "source": []
  },
  {
   "cell_type": "markdown",
   "metadata": {},
   "source": [
    "## 4. Functions ..."
   ]
  },
  {
   "cell_type": "code",
   "execution_count": null,
   "metadata": {},
   "outputs": [],
   "source": []
  },
  {
   "cell_type": "markdown",
   "metadata": {},
   "source": [
    "## 5. Visualise"
   ]
  },
  {
   "cell_type": "code",
   "execution_count": null,
   "metadata": {},
   "outputs": [],
   "source": []
  },
  {
   "cell_type": "markdown",
   "metadata": {},
   "source": [
    "## 6. Insights"
   ]
  },
  {
   "cell_type": "code",
   "execution_count": null,
   "metadata": {},
   "outputs": [],
   "source": []
  }
 ],
 "metadata": {
  "kernelspec": {
   "display_name": "Python 3",
   "language": "python",
   "name": "python3"
  },
  "language_info": {
   "codemirror_mode": {
    "name": "ipython",
    "version": 3
   },
   "file_extension": ".py",
   "mimetype": "text/x-python",
   "name": "python",
   "nbconvert_exporter": "python",
   "pygments_lexer": "ipython3",
   "version": "3.7.6"
  }
 },
 "nbformat": 4,
 "nbformat_minor": 4
}
